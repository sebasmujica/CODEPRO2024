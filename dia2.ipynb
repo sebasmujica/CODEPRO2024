{
 "cells": [
  {
   "cell_type": "markdown",
   "id": "6ab7c9b3",
   "metadata": {},
   "source": [
    "## Challenge #1\n",
    "23\n"
   ]
  },
  {
   "cell_type": "code",
   "execution_count": null,
   "id": "68d66088",
   "metadata": {},
   "outputs": [
    {
     "name": "stdout",
     "output_type": "stream",
     "text": [
      "Hace lo que quieras\n"
     ]
    }
   ],
   "source": [
    "#preguntamos edad y la convertimos a entero\n",
    "edad_usuario = int(input(\"¿Cuántos años tenes? \"))\n",
    "#Comparamos la edad \n",
    "if edad_usuario < 18:\n",
    "    print(\"Juguito nomas\")\n",
    "elif edad_usuario > 21:\n",
    "    print(\"Hace lo que quieras\")\n",
    "else:\n",
    "    print(\"Podes tomar pero no comprar\")\n",
    "\n"
   ]
  },
  {
   "cell_type": "markdown",
   "id": "fa2b3755",
   "metadata": {},
   "source": [
    "## Challenge #2"
   ]
  },
  {
   "cell_type": "code",
   "execution_count": 43,
   "id": "85dbdc50",
   "metadata": {},
   "outputs": [
    {
     "name": "stdout",
     "output_type": "stream",
     "text": [
      "La temperatura es: 23°C\n",
      "Calor'i\n"
     ]
    }
   ],
   "source": [
    "#preguntamos al usuario por una temperatura\n",
    "temperatura= int(input(\"Que temperatura hay?\"))\n",
    "# Imprimimos la temperatura\n",
    "print(f\"La temperatura es: {temperatura}°C\")\n",
    "#Comparamos la temperatura\n",
    "if temperatura > -11 and temperatura < 19:\n",
    "    print(\"Fresquete\")\n",
    "elif temperatura > 18 and temperatura < 31:\n",
    "    print(\"Calor'i\")\n",
    "elif temperatura > 30 and temperatura < 46:\n",
    "    print(\"Hakuuu\")\n",
    "else:\n",
    "    print(\"Ñamano mba'e \")"
   ]
  },
  {
   "cell_type": "markdown",
   "id": "27bf430c",
   "metadata": {},
   "source": [
    "## Challenge #3"
   ]
  },
  {
   "cell_type": "code",
   "execution_count": null,
   "id": "5a6657bd",
   "metadata": {},
   "outputs": [
    {
     "name": "stdout",
     "output_type": "stream",
     "text": [
      "Password Incorrecto.\n",
      "Password correcto\n"
     ]
    }
   ],
   "source": [
    "password_user = \"1234\"\n",
    "\n",
    "while True:\n",
    "    # Se pide el password\n",
    "    password = input(\"Ingrese su Password:\")\n",
    "    # Se compara el password\n",
    "    if password == password_user:\n",
    "        print(\"Password correcto\")\n",
    "        break\n",
    "    else:\n",
    "        print(\"Password Incorrecto.\")\n",
    "        "
   ]
  },
  {
   "cell_type": "markdown",
   "id": "6cccffc6",
   "metadata": {},
   "source": [
    "## Challenge #4"
   ]
  },
  {
   "cell_type": "code",
   "execution_count": 72,
   "id": "3e81cb86",
   "metadata": {},
   "outputs": [
    {
     "name": "stdout",
     "output_type": "stream",
     "text": [
      "['vaca', 'gallina', 'perro', 'gato', 'pato']\n",
      "['vaca', 'gallina', 'perro', 'gato', 'pato', 'toro']\n",
      "['vaca', 'pajaro', 'gato', 'pato', 'toro']\n",
      "['pajaro', 'gato', 'pato', 'toro']\n"
     ]
    }
   ],
   "source": [
    "#creamos una lista \n",
    "lista = [\"vaca\", \"gallina\" , \"perro\" , \"gato\" , \"pato\"]\n",
    "print(lista)\n",
    "#agregamos un elemento a la lista\n",
    "lista.append(\"toro\")\n",
    "print(lista)\n",
    "#Modificamos el segundo elemento de la lista \n",
    "lista[1]= \"pajaro\"\n",
    "#Eliminamos el tercer elemento\n",
    "lista.pop(2)\n",
    "print(lista)\n",
    "#Eliminamos un elemento ESPECIFICO\n",
    "lista.remove(\"vaca\")\n",
    "print(lista)\n"
   ]
  },
  {
   "cell_type": "markdown",
   "id": "944b0d1b",
   "metadata": {},
   "source": [
    "## Challenge #5"
   ]
  },
  {
   "cell_type": "code",
   "execution_count": 98,
   "id": "1f99fa62",
   "metadata": {},
   "outputs": [
    {
     "name": "stdout",
     "output_type": "stream",
     "text": [
      "Tabla de 2\n",
      "0\n",
      "2\n",
      "4\n",
      "6\n",
      "8\n",
      "10\n",
      "12\n",
      "14\n",
      "16\n",
      "18\n",
      "20\n"
     ]
    }
   ],
   "source": [
    "#iterar en un rango de 10 veces \n",
    "#cada iteracion multipicar el iterador por 2\n",
    "#MODO FACIL\n",
    "print(\"Tabla de 2\")\n",
    "for i in range(11):\n",
    "   resultado = i*2\n",
    "   print(resultado)\n",
    "\n",
    "#print(\" \") # salta de linea entre programas\n",
    "\n",
    "#MODO USANDO LISTAS\n",
    "#tabla_de_2 = []\n",
    "#for i in range(10):\n",
    "#   resultado = i*2\n",
    "#   tabla_de_2.append(resultado)\n",
    "#imprimimos la tabla de 2\n",
    "#print(\"Tabla de 2\")\n",
    "#print(tabla_de_2) \n",
    "\n",
    "          "
   ]
  },
  {
   "cell_type": "markdown",
   "id": "295417e6",
   "metadata": {},
   "source": [
    "## Challenge #6"
   ]
  },
  {
   "cell_type": "code",
   "execution_count": 105,
   "id": "14e1956c",
   "metadata": {},
   "outputs": [
    {
     "name": "stdout",
     "output_type": "stream",
     "text": [
      "Marcas con mas de 6 letras:\n",
      "* Adidas\n",
      "* Grasep\n",
      "* UnderArmour\n",
      "* Diadora\n"
     ]
    }
   ],
   "source": [
    "# creamos la lista de marcas\n",
    "marcas = [\"Nike\", \"Adidas\", \"Puma\", \"Grasep\", \"UnderArmour\", \"Diadora\"]\n",
    "# iteramos en cada marca y verificamos la cantidad de letras\n",
    "print(\"Marcas con mas de 6 letras:\")\n",
    "for marca in marcas:\n",
    "    if len(marca) >= 6:\n",
    "        print(f\"* {marca}\")\n"
   ]
  },
  {
   "cell_type": "markdown",
   "id": "e19ee6f3",
   "metadata": {},
   "source": [
    "## Challenge #7"
   ]
  },
  {
   "cell_type": "code",
   "execution_count": 121,
   "id": "c1574a57",
   "metadata": {},
   "outputs": [
    {
     "name": "stdout",
     "output_type": "stream",
     "text": [
      "Frase: hola\n",
      "Eureka\n",
      "Cantidad de letras 'O' encontradas: 1\n"
     ]
    }
   ],
   "source": [
    "# Solicitar una frase\n",
    "frase_user = input(\"Ingrese una frase:\")\n",
    "print(\"Frase:\",frase_user)\n",
    "# se busca la letra \"O\" y se imprime un mensaje \n",
    "cantidad_de_O = 0\n",
    "for letra in frase_user.lower(): #transformo toda la frase en minisculas para evitar error al compara usando el .lower()\n",
    "  if letra == \"o\":\n",
    "      print(\"Eureka\")\n",
    "      cantidad_de_O+=1\n",
    "print(f\"Cantidad de letras 'O' encontradas: {cantidad_de_O}\")"
   ]
  }
 ],
 "metadata": {
  "kernelspec": {
   "display_name": "base",
   "language": "python",
   "name": "python3"
  },
  "language_info": {
   "codemirror_mode": {
    "name": "ipython",
    "version": 3
   },
   "file_extension": ".py",
   "mimetype": "text/x-python",
   "name": "python",
   "nbconvert_exporter": "python",
   "pygments_lexer": "ipython3",
   "version": "3.12.7"
  }
 },
 "nbformat": 4,
 "nbformat_minor": 5
}
