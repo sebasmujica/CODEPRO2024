{
 "cells": [
  {
   "cell_type": "code",
   "execution_count": null,
   "id": "7c195ce9",
   "metadata": {},
   "outputs": [],
   "source": [
    "# FUNCION QUE VERIFICA LA PALABRA\n",
    "def verificar_palabra(palabra_correcta,palabra_ingresada):\n",
    "    total_de_letras = 5\n",
    "    check = 0\n",
    "    palabra_verificada = []\n",
    "    for letra in range(total_de_letras):\n",
    "        if palabra_ingresada[letra]==palabra_correcta[letra]:\n",
    "          palabra_verificada.append(f\"[{palabra_ingresada[letra]}]\")\n",
    "          check+= 1 #Contador que cuenta las veces que la palabra esta bien ubicada \n",
    "        elif palabra_ingresada[letra] in palabra_correcta:\n",
    "           palabra_verificada.append(f\"({palabra_ingresada[letra]})\")\n",
    "        else:\n",
    "           palabra_verificada.append(palabra_ingresada[letra])\n",
    "    return palabra_verificada, check"
   ]
  },
  {
   "cell_type": "code",
   "execution_count": 17,
   "id": "f311fa8f",
   "metadata": {},
   "outputs": [
    {
     "name": "stdout",
     "output_type": "stream",
     "text": [
      "JIGSAW- comienza el juego, tu vida depende de ganar\n",
      " Las reglas:\n",
      " - 3 intentos\n",
      " - Adivina la palabra correcta\n",
      " - '()' si la letra pertenece pero esta mal posicionada\n",
      " - '[]' si la letra esta en la posicion correcta\n",
      "\n",
      "Palabra encontrada\n",
      " \n",
      "TUS INTENTOS: \n",
      "['[p]', '[e]', '[r]', '[r]', '[o]']\n"
     ]
    }
   ],
   "source": [
    "\n",
    "#COMIENZA EL JUEGO \n",
    "palabra_correcta = \"perro\"\n",
    "total_de_letras = 5\n",
    "#Bucle de intentos\n",
    "cant_de_intentos = 3\n",
    "grilla_de_palabras = []\n",
    "print(\"JIGSAW- comienza el juego, tu vida depende de ganar\\n Las reglas:\\n - 3 intentos\\n - Adivina la palabra correcta\\n - '()' si la letra pertenece pero esta mal posicionada\\n - '[]' si la letra esta en la posicion correcta\\n\")\n",
    "while cant_de_intentos > 0 :\n",
    "   palabra_ingresada= input(f\"Ingrese una palabra de 5 letras\")\n",
    "   palabra_in = palabra_ingresada.lower()\n",
    "   if len(palabra_in) != 5:\n",
    "    print(\"No tiene 5 letras\")\n",
    "   else:    \n",
    "      cant_de_intentos-= 1\n",
    "      palabra_comprobada, todas_correctas = verificar_palabra(palabra_correcta, palabra_in)\n",
    "      if todas_correctas == total_de_letras: #Si se adivina la palabra terminamos el juego\n",
    "         grilla_de_palabras.append(palabra_comprobada)\n",
    "         print(\"Palabra encontrada\")\n",
    "         break\n",
    "      else:   # si no se adivina la palabra se siguen intentando y se guarda la palabra en la grilla\n",
    "         print(palabra_comprobada)\n",
    "         print(f\"Quedan {cant_de_intentos} intentos\")\n",
    "         grilla_de_palabras.append(palabra_comprobada)\n",
    "   \n",
    "  \n",
    "      \n",
    "#Imprimimos la grilla de intentos\n",
    "\n",
    "print(\" \")\n",
    "if cant_de_intentos == 0:\n",
    "  print(\"PERDISTE\")\n",
    "print(\"TUS INTENTOS: \")\n",
    "for palabra in grilla_de_palabras:\n",
    "  print(palabra)\n",
    "\n",
    "   \n",
    "\n",
    "   "
   ]
  }
 ],
 "metadata": {
  "kernelspec": {
   "display_name": "base",
   "language": "python",
   "name": "python3"
  },
  "language_info": {
   "codemirror_mode": {
    "name": "ipython",
    "version": 3
   },
   "file_extension": ".py",
   "mimetype": "text/x-python",
   "name": "python",
   "nbconvert_exporter": "python",
   "pygments_lexer": "ipython3",
   "version": "3.12.7"
  }
 },
 "nbformat": 4,
 "nbformat_minor": 5
}
