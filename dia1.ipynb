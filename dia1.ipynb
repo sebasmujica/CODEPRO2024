{
 "cells": [
  {
   "cell_type": "code",
   "execution_count": 1,
   "id": "036b1578",
   "metadata": {},
   "outputs": [
    {
     "name": "stdout",
     "output_type": "stream",
     "text": [
      "Hola Mundo\n"
     ]
    }
   ],
   "source": [
    "print(\"Hola Mundo\")\n"
   ]
  },
  {
   "cell_type": "markdown",
   "id": "e7bc24a4",
   "metadata": {},
   "source": [
    "## CHALLENGE #1"
   ]
  },
  {
   "cell_type": "code",
   "execution_count": null,
   "id": "e34feb66",
   "metadata": {},
   "outputs": [
    {
     "name": "stdout",
     "output_type": "stream",
     "text": [
      "19\n",
      "15\n"
     ]
    }
   ],
   "source": [
    "# Se asigna dos numeros en dos variables \n",
    "cantidad_de_manzanas = 7\n",
    "cantidad_de_naranjas = 12\n",
    "# Se suma las dos variables, se asigna a una nueva variable y se imprime el resultado\n",
    "cantidad_de_frutas = cantidad_de_manzanas + cantidad_de_naranjas\n",
    "print(cantidad_de_frutas)\n",
    "# Se asigna un valor a frutas_vendidas y se resta a cantidad_de_frutas\n",
    "frutas_vendidas = 4\n",
    "frutas_restantes = cantidad_de_frutas - frutas_vendidas\n",
    "print(frutas_restantes)\n"
   ]
  },
  {
   "cell_type": "markdown",
   "id": "cee855d4",
   "metadata": {},
   "source": [
    "## Challenge #2"
   ]
  },
  {
   "cell_type": "code",
   "execution_count": 5,
   "id": "45221a48",
   "metadata": {},
   "outputs": [
    {
     "name": "stdout",
     "output_type": "stream",
     "text": [
      "Hola Fernando Paniagua. Mucho gusto\n"
     ]
    }
   ],
   "source": [
    "# guardo el nombre y apellido del compa\n",
    "nombre = \"Fernando\"\n",
    "apellido = \"Paniagua\"\n",
    "# imprimo el nombre y apellido\n",
    "print(f\"Hola {nombre} {apellido}. Mucho gusto\")\n",
    "\n"
   ]
  },
  {
   "cell_type": "markdown",
   "id": "a009c564",
   "metadata": {},
   "source": [
    "## Challenge #3"
   ]
  },
  {
   "cell_type": "code",
   "execution_count": null,
   "id": "01308a04",
   "metadata": {},
   "outputs": [
    {
     "name": "stdout",
     "output_type": "stream",
     "text": [
      "La suma es 2\n"
     ]
    }
   ],
   "source": [
    "# Se piden dos numeros al usuario\n",
    "num1 = input (\"Ingresa un número\")\n",
    "num2 = input(\"Ingresa otro número\")\n",
    "suma = int(num1) + int(num2)\n",
    "# Se imprime la suma\n",
    "print(f\"La suma es {suma}\")\n",
    "\n",
    "\n"
   ]
  },
  {
   "cell_type": "markdown",
   "id": "8b4390bb",
   "metadata": {},
   "source": [
    "## Challenge #3"
   ]
  },
  {
   "cell_type": "code",
   "execution_count": 15,
   "id": "190254d0",
   "metadata": {},
   "outputs": [
    {
     "name": "stdout",
     "output_type": "stream",
     "text": [
      "Poner 2 cucharadas de azucar dentro de una taza\n",
      "Agregar 2 cucharadas de Toddy\n",
      "Llenar la taza con agua caliente hasta la mitad\n",
      "Llenar el resto con leche fría\n",
      "\n",
      "\n",
      "Poner 2 cucharadas de azucar dentro de una taza\n",
      "Agregar 2 cucharadas de Toddy\n",
      "Llenar la taza con agua caliente hasta la mitad\n",
      "Llenar el resto con leche fría\n",
      "\n",
      "\n",
      "Poner 2 cucharadas de azucar dentro de una taza\n",
      "Agregar 2 cucharadas de Toddy\n",
      "Llenar la taza con agua caliente hasta la mitad\n",
      "Llenar el resto con leche fría\n",
      "\n",
      "\n"
     ]
    }
   ],
   "source": [
    "def preparar_toddy():\n",
    "    print(\"Poner 2 cucharadas de azucar dentro de una taza\")\n",
    "    print(\"Agregar 2 cucharadas de Toddy\")\n",
    "    print(\"Llenar la taza con agua caliente hasta la mitad\")\n",
    "    print(\"Llenar el resto con leche fría\")\n",
    "    print(\"\\n\")\n",
    "\n",
    "preparar_toddy()\n",
    "\n",
    "preparar_toddy()\n",
    "\n",
    "preparar_toddy()\n"
   ]
  },
  {
   "cell_type": "markdown",
   "id": "619505b4",
   "metadata": {},
   "source": [
    "## Challenge #4"
   ]
  },
  {
   "cell_type": "code",
   "execution_count": 18,
   "id": "e341b8c0",
   "metadata": {},
   "outputs": [
    {
     "name": "stdout",
     "output_type": "stream",
     "text": [
      "El color de la TV es negra\n",
      "El tamaño de la TV es: 55\" \n",
      "La marca es Samsung\n"
     ]
    }
   ],
   "source": [
    "def caracteristicas_de_elemento(carateristicas):\n",
    "    print(\"El color de la TV es negra\")\n",
    "    print(f'El tamaño de la TV es: {carateristicas}\" ')\n",
    "    print(\"La marca es Samsung\")\n",
    "\n",
    "caracteristicas_de_elemento(55)"
   ]
  }
 ],
 "metadata": {
  "kernelspec": {
   "display_name": "base",
   "language": "python",
   "name": "python3"
  },
  "language_info": {
   "codemirror_mode": {
    "name": "ipython",
    "version": 3
   },
   "file_extension": ".py",
   "mimetype": "text/x-python",
   "name": "python",
   "nbconvert_exporter": "python",
   "pygments_lexer": "ipython3",
   "version": "3.12.7"
  }
 },
 "nbformat": 4,
 "nbformat_minor": 5
}
