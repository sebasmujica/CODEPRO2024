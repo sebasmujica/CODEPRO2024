{
 "cells": [
  {
   "cell_type": "markdown",
   "id": "339e654f",
   "metadata": {},
   "source": [
    "def solicitud_y_verificacion_de_palabra(cantidad_de_letras):\n",
    "   while True:\n",
    "      palabra_ingresada = input(\"Ingrese una palabra: \")\n",
    "      if len(palabra_ingresada) != cantidad_de_letras:\n",
    "         print(\"Por favor, ingrese una palabra de 5 letras\")\n",
    "      else:\n",
    "         break \n",
    "   return palabra_ingresada\n"
   ]
  },
  {
   "cell_type": "code",
   "execution_count": 2,
   "id": "44fe0c90",
   "metadata": {},
   "outputs": [],
   "source": [
    "#FUNCION QUE COMPARA LAS PALABRAS Y VERIFICA LAS LETRAS CORRECTAS \n",
    "def funcion_wordle(palabra_valida, palabra_oculta, cantidad_de_letras):\n",
    "    intentos_wordle=[]\n",
    "    posicion_correcta=0\n",
    "    for letra in range(cantidad_de_letras):\n",
    "        color_verde = palabra_valida[letra] == palabra_oculta [letra]\n",
    "        color_amarillo = palabra_valida[letra] in palabra_oculta\n",
    "        if color_verde:\n",
    "            intentos_wordle.append(f\"({palabra_valida[letra]})\")\n",
    "            posicion_correcta+= 1\n",
    "        elif color_amarillo:\n",
    "            intentos_wordle.append(f\"[{palabra_valida[letra]}]\")\n",
    "        else:\n",
    "            intentos_wordle.append(palabra_valida[letra])\n",
    "    return intentos_wordle,posicion_correcta\n"
   ]
  },
  {
   "cell_type": "code",
   "execution_count": 4,
   "id": "2d1d05e3",
   "metadata": {},
   "outputs": [
    {
     "name": "stdout",
     "output_type": "stream",
     "text": [
      "Las reglas:\n",
      " - 5 intentos\n",
      " - Adivina la palabra correcta\n",
      " - '[]' si la letra pertenece a la palabra oculta pero esta mal posicionada\n",
      " - '()' si la letra esta en la posicion correcta\n",
      "\n",
      "['a', '[e]', '[i]', '[o]', 'u']\n",
      "Quedan 4 intentos\n",
      "\n",
      "['h', '(i)', '(e)', 'l', '(o)']\n",
      "Quedan 3 intentos\n",
      "\n",
      "['h', '(i)', '(e)', 'l', '(o)']\n",
      "Quedan 2 intentos\n",
      "\n",
      "['m', '(i)', '(e)', 'd', '(o)']\n",
      "Quedan 1 intentos\n",
      "\n",
      "['h', '(i)', '(e)', 'r', '(o)']\n",
      "Quedan 0 intentos\n",
      "\n",
      "Haz perdido.\n",
      " La palabra oculta era: 'viejo'\n",
      "Tus Intentos:\n",
      "['a', '[e]', '[i]', '[o]', 'u']\n",
      "['h', '(i)', '(e)', 'l', '(o)']\n",
      "['h', '(i)', '(e)', 'l', '(o)']\n",
      "['m', '(i)', '(e)', 'd', '(o)']\n",
      "['h', '(i)', '(e)', 'r', '(o)']\n"
     ]
    }
   ],
   "source": [
    "import random\n",
    "import modulo_de_validacion #En vez de tener la funcion en el mismo programa, la creamos en otro archivo .py y la llamamos como modulo\n",
    "opciones_de_palabras = ['perro', 'aereo', 'hilos','metro', 'hielo', 'nuevo', 'huevo','juego','bueno','viejo']\n",
    "#DEFINIMOS LA PALABRA OCULTA, LA CANTIDAD DE LETRAS E INTENTOS\n",
    "palabra_oculta = random.choice(opciones_de_palabras)\n",
    "cantidad_de_letras = 5\n",
    "cantidad_de_intentos = 5\n",
    "grilla_wordle=[]\n",
    "#Imprimimos las instrucciones del juego\n",
    "print(\"Las reglas:\\n - 5 intentos\\n - Adivina la palabra correcta\\n - '[]' si la letra pertenece a la palabra oculta pero esta mal posicionada\\n - '()' si la letra esta en la posicion correcta\\n\")\n",
    "#CREAMOS EL BUCLE DE INTENTOS\n",
    "while cantidad_de_intentos > 0:\n",
    "   cantidad_de_intentos-= 1\n",
    "   palabra_valida= modulo_de_validacion.solicitud_y_verificacion_de_palabra(cantidad_de_letras) #Se verifica que la palabra tenga 5 letras y se guarda en una variable\n",
    "   wordle_try, intento_ganador= funcion_wordle(palabra_valida, palabra_oculta,cantidad_de_letras) #Se envia los datos a la funcion para verificar la palabra\n",
    "   grilla_wordle.append(wordle_try)\n",
    "   if intento_ganador == cantidad_de_letras:\n",
    "      print(\"Haz encontrado la palabra!!!\")\n",
    "      break\n",
    "   else:\n",
    "      print(wordle_try)\n",
    "      print(f\"Quedan {cantidad_de_intentos} intentos\\n\")\n",
    "\n",
    "if cantidad_de_intentos == 0:\n",
    "   print(f\"Haz perdido.\\n La palabra oculta era: '{palabra_oculta}'\")\n",
    "\n",
    "print(\"Tus Intentos:\")\n",
    "for n in grilla_wordle:\n",
    "  print(n)\n"
   ]
  }
 ],
 "metadata": {
  "kernelspec": {
   "display_name": "base",
   "language": "python",
   "name": "python3"
  },
  "language_info": {
   "codemirror_mode": {
    "name": "ipython",
    "version": 3
   },
   "file_extension": ".py",
   "mimetype": "text/x-python",
   "name": "python",
   "nbconvert_exporter": "python",
   "pygments_lexer": "ipython3",
   "version": "3.12.7"
  }
 },
 "nbformat": 4,
 "nbformat_minor": 5
}
