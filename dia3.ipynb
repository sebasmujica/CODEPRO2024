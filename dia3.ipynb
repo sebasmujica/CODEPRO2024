{
 "cells": [
  {
   "cell_type": "markdown",
   "id": "a58ee446",
   "metadata": {},
   "source": [
    "## Challenge #1"
   ]
  },
  {
   "cell_type": "code",
   "execution_count": null,
   "id": "15587025",
   "metadata": {},
   "outputs": [
    {
     "name": "stdout",
     "output_type": "stream",
     "text": [
      "hola\n"
     ]
    }
   ],
   "source": [
    "def imprimir_palabra(palabra):\n",
    "    print(palabra)\n",
    "\n",
    "palabra_in = input(\"Introduce una palabra: \")\n",
    "imprimir_palabra(palabra_in)"
   ]
  },
  {
   "cell_type": "markdown",
   "id": "0fd3e1c6",
   "metadata": {},
   "source": [
    "## Challenge #2"
   ]
  },
  {
   "cell_type": "code",
   "execution_count": null,
   "id": "11d5bb58",
   "metadata": {},
   "outputs": [
    {
     "name": "stdout",
     "output_type": "stream",
     "text": [
      "Las letras son iguales\n"
     ]
    }
   ],
   "source": [
    "#definimos una funcion que recibira dos parametros\n",
    "def comparar_letras(letra_1, letra_2):\n",
    "    if letra_1 == letra_2:        #Comparamos las dos letras\n",
    "        print(\"Las letras son iguales\")\n",
    "    else:\n",
    "        print(\"Las letras son diferentes\")\n",
    "\n",
    "letra_1 = input(\"Introduce una letra\")   # Pedimos al usuario una letra cualquiera\n",
    "letra_2 = input(\"Introduce otra letra\")  # Volvemos a pedir al usuario otra letra cualquiera \n",
    "\n",
    "comparar_letras(letra_1, letra_2)   #Enviamos los parametro a la funcion "
   ]
  },
  {
   "cell_type": "markdown",
   "id": "ff9c953e",
   "metadata": {},
   "source": [
    "## Challenge #3"
   ]
  },
  {
   "cell_type": "code",
   "execution_count": null,
   "id": "06dccb7f",
   "metadata": {},
   "outputs": [
    {
     "name": "stdout",
     "output_type": "stream",
     "text": [
      "Palabra introducida: perros\n",
      "Cantidad de letras de la palabra: 6\n",
      "Numero introducido: 5\n",
      "La comparacion devuelve: False\n"
     ]
    }
   ],
   "source": [
    "#Creamos una funcion que reciba un numero y una palabra y compare el numero y la cantidad de letras de la palabra\n",
    "def comparar_palabra_numero(numero, palabra):\n",
    "    if len(palabra) == numero :\n",
    "        return True \n",
    "    else:\n",
    "        return False \n",
    "    \n",
    "#Comienza el programa \n",
    "\n",
    "numero_in = int(input(\"Introduce un numero\")) #Pedimos un numero \n",
    "palabra_in = input(\"Introduce una palabra\") #Pedimos una palabra\n",
    "\n",
    "#Enviamos el numero y la palabra a la funcion y guardamos el valor retornado en la varibale validacion\n",
    "verificacion = comparar_palabra_numero(numero_in, palabra_in)\n",
    "#Imprimimos el resultado\n",
    "print(f\"Palabra introducida: {palabra_in}\")\n",
    "print(\"Cantidad de letras de la palabra:\",len(palabra_in))\n",
    "print(f\"Numero introducido: {numero_in}\")\n",
    "print(f\"La comparacion devuelve: {verificacion}\")\n",
    "\n",
    "\n",
    "\n"
   ]
  },
  {
   "cell_type": "markdown",
   "id": "08d07b71",
   "metadata": {},
   "source": [
    "## Challenge #4"
   ]
  },
  {
   "cell_type": "code",
   "execution_count": 35,
   "id": "5754048d",
   "metadata": {},
   "outputs": [
    {
     "name": "stdout",
     "output_type": "stream",
     "text": [
      "[['h', 'o', 'l', 'a', 's']] \n",
      "\n",
      "Palabra 1 agregada\n",
      "[['h', 'o', 'l', 'a', 's'], ['h', 'e', 'l', 'l', 'o']] \n",
      "\n",
      "Palabra 2 agregada\n",
      "[['h', 'o', 'l', 'a', 's'], ['h', 'e', 'l', 'l', 'o'], ['h', 'a', 'l', 'l', 'o']] \n",
      "\n",
      "Palabra 3 agregada\n",
      "[['h', 'o', 'l', 'a', 's'], ['h', 'e', 'l', 'l', 'o'], ['h', 'a', 'l', 'l', 'o']]\n"
     ]
    }
   ],
   "source": [
    "# Pedimos al usuario que ingrese una palabra, separamos sus caracteres en una lista y luego la guardamos en otra lista\n",
    "\n",
    "contador = 1\n",
    "palabra_ingresada = [] #Inicializamos una lista \n",
    "while contador < 4:\n",
    "    palabra_in = input(\"Ingrese palabra: \") #Pedimos que se ingrese la palabra\n",
    "    palabra_separada = list(palabra_in) #Enlistamos los caracteres de la palabra_in dentro de la lista palabra_separada\n",
    "    palabra_ingresada.append(palabra_separada) #Agregamos la lista de caracteres de la palabra_in dentro de la lista_ingresada\n",
    "    print(palabra_ingresada,\"\\n\")\n",
    "    print(f\"Palabra {contador} agregada\") #Imprimimos cada vez que agregamos una palabra nueva \n",
    "    contador+= 1\n",
    "\n",
    "\n",
    "print(palabra_ingresada) \n"
   ]
  },
  {
   "cell_type": "markdown",
   "id": "d59fad88",
   "metadata": {},
   "source": [
    "## Challenge #5"
   ]
  },
  {
   "cell_type": "code",
   "execution_count": 36,
   "id": "9d0a7b95",
   "metadata": {},
   "outputs": [
    {
     "name": "stdout",
     "output_type": "stream",
     "text": [
      "['h', 'o', 'l', 'a', 's']\n",
      "['h', 'e', 'l', 'l', 'o']\n",
      "['h', 'a', 'l', 'l', 'o']\n"
     ]
    }
   ],
   "source": [
    "# Creamos la funcion y recibe la grilla creada\n",
    "def grilla_de_lista(lista):\n",
    "    for palabra in lista :     #recorre la grilla elemento por elemento \n",
    "      print(palabra)           #Imprime cada item de la grilla uno debajo de otro\n",
    "                 \n",
    "# uso la grilla del ejercicio anterios\n",
    "grilla_de_lista(palabra_ingresada) #Envio la grilla\n"
   ]
  }
 ],
 "metadata": {
  "kernelspec": {
   "display_name": "base",
   "language": "python",
   "name": "python3"
  },
  "language_info": {
   "codemirror_mode": {
    "name": "ipython",
    "version": 3
   },
   "file_extension": ".py",
   "mimetype": "text/x-python",
   "name": "python",
   "nbconvert_exporter": "python",
   "pygments_lexer": "ipython3",
   "version": "3.12.7"
  }
 },
 "nbformat": 4,
 "nbformat_minor": 5
}
